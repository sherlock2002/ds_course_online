{
 "cells": [
  {
   "cell_type": "markdown",
   "id": "e7b1e9bc",
   "metadata": {},
   "source": [
    "# Module 1. Part 1\n",
    "\n",
    "# level 1\n",
    "\n",
    "# Вывести в консоль (через функцию print) значение выражения:\n",
    "\n",
    "value = (5 + 7 * 5 / 8) / 3 ** 5\n",
    "print(value)"
   ]
  },
  {
   "cell_type": "markdown",
   "id": "5c040779",
   "metadata": {},
   "source": [
    "# Level 2\n",
    "\n",
    "# Длина Московской кольцевой автомобильной дороги – 109 километров. \n",
    "# Байкер Вася стартует с нулевого километра МКАД и едет со скоростью 𝑣 километров в час. \n",
    "# На какой отметке он остановится через 𝑡 часов? \n",
    "\n",
    "v = int(input())\n",
    "t = int(input())\n",
    "\n",
    "def stop(v, t):\n",
    "    return(v * t % 109)\n",
    "stop(v, t)"
   ]
  },
  {
   "cell_type": "markdown",
   "id": "c0165f5a",
   "metadata": {},
   "source": [
    "# level 3\n",
    "\n",
    "# На вход подаются 2 числа. Числа могут быть как целые, так и вещественные. Сравните их\n",
    "# значения и найдите наибольшее. Помните, что результатом сравнения является True или\n",
    "# False (тип bool). При этом True эквивалентно 1, а False 0 при умножении.\n",
    "\n",
    "num1 = float(input())\n",
    "num2 = float(input())\n",
    "\n",
    "def max(num1, num2):\n",
    "    \n",
    "    max = (num1 >= num2) * num1 + (num1 < num2) * num2\n",
    "    return max\n",
    "max(num1, num2)"
   ]
  },
  {
   "cell_type": "markdown",
   "id": "28b05f6c",
   "metadata": {},
   "source": [
    "# HT 2\n",
    "\n",
    "# level 1\n",
    "\n",
    "num1 = int(input())\n",
    "num2 = int(input())\n",
    "num3 = int(input())\n",
    "\n",
    "if ((num1 == num2) and (num2 == num3)):\n",
    "    print(3) \n",
    "\n",
    "elif ((num1 == num2) or (num2 == num3) or (num1 == num3)):\n",
    "    print(2)\n",
    "    \n",
    "else: \n",
    "    print(0)\n"
   ]
  },
  {
   "cell_type": "markdown",
   "id": "35416032",
   "metadata": {},
   "source": [
    "# Level 2 \n",
    "\n",
    "x1 = int(input())\n",
    "y1 = int(input())\n",
    "\n",
    "x2 = int(input())\n",
    "y2 = int(input())\n",
    "\n",
    "if (x1 == x2 or y1 == y2):\n",
    "    print(\"Yes\")\n",
    "else:\n",
    "    print(\"No\")"
   ]
  }
 ],
 "metadata": {
  "kernelspec": {
   "display_name": "Python 3 (ipykernel)",
   "language": "python",
   "name": "python3"
  },
  "language_info": {
   "codemirror_mode": {
    "name": "ipython",
    "version": 3
   },
   "file_extension": ".py",
   "mimetype": "text/x-python",
   "name": "python",
   "nbconvert_exporter": "python",
   "pygments_lexer": "ipython3",
   "version": "3.9.15"
  }
 },
 "nbformat": 4,
 "nbformat_minor": 5
}
